{
 "cells": [
  {
   "cell_type": "code",
   "execution_count": 1,
   "metadata": {
    "collapsed": false
   },
   "outputs": [
    {
     "ename": "ImportError",
     "evalue": "No module named 'django'",
     "output_type": "error",
     "traceback": [
      "\u001b[0;31m---------------------------------------------------------------------------\u001b[0m",
      "\u001b[0;31mImportError\u001b[0m                               Traceback (most recent call last)",
      "\u001b[0;32m<ipython-input-1-081f7df72bf6>\u001b[0m in \u001b[0;36m<module>\u001b[0;34m()\u001b[0m\n\u001b[0;32m----> 1\u001b[0;31m \u001b[0;32mfrom\u001b[0m \u001b[0mdjango\u001b[0m\u001b[0;34m.\u001b[0m\u001b[0mshortcuts\u001b[0m \u001b[0;32mimport\u001b[0m \u001b[0mrender\u001b[0m\u001b[0;34m\u001b[0m\u001b[0m\n\u001b[0m\u001b[1;32m      2\u001b[0m \u001b[0;32mfrom\u001b[0m \u001b[0mdjango\u001b[0m\u001b[0;34m.\u001b[0m\u001b[0mhttp\u001b[0m \u001b[0;32mimport\u001b[0m \u001b[0mHttpResponse\u001b[0m\u001b[0;34m\u001b[0m\u001b[0m\n\u001b[1;32m      3\u001b[0m \u001b[0;32mimport\u001b[0m \u001b[0mrequests\u001b[0m\u001b[0;34m\u001b[0m\u001b[0m\n\u001b[1;32m      4\u001b[0m \u001b[0;32mfrom\u001b[0m \u001b[0mbs4\u001b[0m \u001b[0;32mimport\u001b[0m \u001b[0mBeautifulSoup\u001b[0m\u001b[0;34m\u001b[0m\u001b[0m\n\u001b[1;32m      5\u001b[0m \u001b[0;34m\u001b[0m\u001b[0m\n",
      "\u001b[0;31mImportError\u001b[0m: No module named 'django'"
     ]
    }
   ],
   "source": [
    "from django.shortcuts import render\n",
    "from django.http import HttpResponse\n",
    "import requests\n",
    "from bs4 import BeautifulSoup\n",
    "\n",
    "def graparate(request):\n",
    "    res = requests.get(\"http://www.findrate.tw/CNY/\")\n",
    "    soup = BeautifulSoup(res.text,\"html.parser\")\n",
    "    ##soup.encode('utf-8')\n",
    "    bank={}\n",
    "    rate_info=[]\n",
    "    data = soup.select('tr')\n",
    "    for objs in soup.select('.bank'):\n",
    "        figure = objs.select('a')[0].text.strip()\n",
    "        bank.update({'bank_name':figure})\n",
    "        for rates in soup.select('.WordB'):\n",
    "            rate = rates.text.strip()\n",
    "            rate_info.append(rate)\n",
    "            for i in bank.keys():\n",
    "                bank[i]=rate_info\n",
    "            print (bank[i])\n"
   ]
  },
  {
   "cell_type": "code",
   "execution_count": 32,
   "metadata": {
    "collapsed": false
   },
   "outputs": [
    {
     "name": "stdout",
     "output_type": "stream",
     "text": [
      "200\n",
      "fannys23\n",
      "test@fannys23.com\n"
     ]
    }
   ],
   "source": [
    "b = {'name':'fannys23', 'email':'test@fannys23.com', 'money':200}\n",
    "for i in b.keys():\n",
    "    print (b[i])"
   ]
  },
  {
   "cell_type": "code",
   "execution_count": null,
   "metadata": {
    "collapsed": true
   },
   "outputs": [],
   "source": []
  }
 ],
 "metadata": {
  "kernelspec": {
   "display_name": "Python 3",
   "language": "python",
   "name": "python3"
  }
 },
 "nbformat": 4,
 "nbformat_minor": 2
}
