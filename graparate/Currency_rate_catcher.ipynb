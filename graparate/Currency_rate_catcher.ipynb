{
 "cells": [
  {
   "cell_type": "code",
   "execution_count": 7,
   "metadata": {
    "collapsed": false
   },
   "outputs": [
    {
     "name": "stdout",
     "output_type": "stream",
     "text": [
      "çèéè¡\n",
      "è¯é¦éè¡\n",
      "å",
      "å¤§éè¡\n",
      "é«ééè¡\n",
      "æ°¸è±éè¡\n",
      "æå±éè¡\n",
      "äº¬åéè¡\n",
      "æ¸£æéè¡\n",
      "é æ±åé\n",
      "è¯æ³°éè¡\n",
      "æ³°åç¤è°·éè¡\n",
      "èºç£ä¼é\n",
      "ä¸ä¿¡åé\n",
      "åæ³°ä¸è¯\n",
      "æ¥çéè¡\n",
      "ç¬¬ä¸éè¡\n",
      "å°ä¸­éè¡\n",
      "æ¿ä¿¡éè¡\n",
      "å°æ°éè¡\n",
      "ä¸æµ·åé\n",
      "åå°éè¡\n",
      "å®æ³°éè¡\n",
      "è±æéè¡\n",
      "çå±±éè¡\n",
      "è¯åéè¡\n",
      "å¯é¦éè¡\n",
      "èºç£éè¡\n",
      "é½ä¿¡éè¡\n",
      "å",
      "è±éè¡\n",
      "éµå±\n",
      "æ¾³çéè¡\n",
      "å¤§ç¾éè¡\n",
      "å½°åéè¡\n",
      "å¯è±éè¡\n",
      "ä¸­åä¿¡è¨\n",
      "åä½éåº«\n"
     ]
    }
   ],
   "source": [
    "import requests\n",
    "from bs4 import BeautifulSoup\n",
    "\n",
    "res = requests.get(\"http://www.findrate.tw/CNY/\")\n",
    "soup = BeautifulSoup(res.text,\"html.parser\")\n",
    "    ##soup.encode('utf-8')\n",
    "    #bank={}\n",
    "    #rate_info=[]\n",
    "data = soup.select('tr')\n",
    "for objs in soup.select('.bank'):\n",
    "    figure = objs.select('a')[0].text.strip()\n",
    "    #bank.update({'bank_name':figure})\n",
    "    print (figure)\n",
    "    for rates in soup.select('.WordB'):\n",
    "        rate = rates.text.strip()\n",
    "        #rate_info.append(rate)\n",
    "        #for i in bank.keys():\n",
    "        #    bank[i]=rate_info\n",
    "        #print (rate)\n"
   ]
  },
  {
   "cell_type": "code",
   "execution_count": 6,
   "metadata": {
    "collapsed": false
   },
   "outputs": [
    {
     "name": "stdout",
     "output_type": "stream",
     "text": [
      "fannys23\n",
      "200\n",
      "test@fannys23.com\n"
     ]
    }
   ],
   "source": [
    "b = {'name':'fannys23', 'email':'test@fannys23.com', 'money':200}\n",
    "for i in b.keys():\n",
    "    print (b[i])"
   ]
  },
  {
   "cell_type": "code",
   "execution_count": null,
   "metadata": {
    "collapsed": true
   },
   "outputs": [],
   "source": []
  },
  {
   "cell_type": "code",
   "execution_count": null,
   "metadata": {
    "collapsed": true
   },
   "outputs": [],
   "source": []
  }
 ],
 "metadata": {
  "kernelspec": {
   "display_name": "Python 2",
   "language": "python",
   "name": "python2"
  },
  "language_info": {
   "codemirror_mode": {
    "name": "ipython",
    "version": 2
   },
   "file_extension": ".py",
   "mimetype": "text/x-python",
   "name": "python",
   "nbconvert_exporter": "python",
   "pygments_lexer": "ipython2",
   "version": "2.7.12"
  }
 },
 "nbformat": 4,
 "nbformat_minor": 2
}
